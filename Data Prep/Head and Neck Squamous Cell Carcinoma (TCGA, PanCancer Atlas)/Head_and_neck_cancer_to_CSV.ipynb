{
 "cells": [
  {
   "cell_type": "code",
   "execution_count": 1,
   "metadata": {},
   "outputs": [],
   "source": [
    "import pandas as pd\n",
    "import warnings\n",
    "warnings.filterwarnings('ignore')"
   ]
  },
  {
   "cell_type": "code",
   "execution_count": 2,
   "metadata": {},
   "outputs": [],
   "source": [
    "df = pd.read_csv('head_and_neck_cancer.csv')"
   ]
  },
  {
   "cell_type": "code",
   "execution_count": 3,
   "metadata": {},
   "outputs": [
    {
     "data": {
      "text/html": [
       "<div>\n",
       "<style scoped>\n",
       "    .dataframe tbody tr th:only-of-type {\n",
       "        vertical-align: middle;\n",
       "    }\n",
       "\n",
       "    .dataframe tbody tr th {\n",
       "        vertical-align: top;\n",
       "    }\n",
       "\n",
       "    .dataframe thead th {\n",
       "        text-align: right;\n",
       "    }\n",
       "</style>\n",
       "<table border=\"1\" class=\"dataframe\">\n",
       "  <thead>\n",
       "    <tr style=\"text-align: right;\">\n",
       "      <th></th>\n",
       "      <th>Hugo_Symbol</th>\n",
       "      <th>Entrez_Gene_Id</th>\n",
       "      <th>TCGA-4P-AA8J-01</th>\n",
       "      <th>TCGA-BA-4074-01</th>\n",
       "      <th>TCGA-BA-4076-01</th>\n",
       "      <th>TCGA-BA-4078-01</th>\n",
       "      <th>TCGA-BA-5149-01</th>\n",
       "      <th>TCGA-BA-5151-01</th>\n",
       "      <th>TCGA-BA-5152-01</th>\n",
       "      <th>TCGA-BA-5153-01</th>\n",
       "      <th>...</th>\n",
       "      <th>TCGA-UF-A7JH-01</th>\n",
       "      <th>TCGA-UF-A7JJ-01</th>\n",
       "      <th>TCGA-UF-A7JK-01</th>\n",
       "      <th>TCGA-UF-A7JO-01</th>\n",
       "      <th>TCGA-UF-A7JS-01</th>\n",
       "      <th>TCGA-UF-A7JT-01</th>\n",
       "      <th>TCGA-UF-A7JV-01</th>\n",
       "      <th>TCGA-UP-A6WW-01</th>\n",
       "      <th>TCGA-WA-A7GZ-01</th>\n",
       "      <th>TCGA-WA-A7H4-01</th>\n",
       "    </tr>\n",
       "  </thead>\n",
       "  <tbody>\n",
       "    <tr>\n",
       "      <th>0</th>\n",
       "      <td>NaN</td>\n",
       "      <td>NaN</td>\n",
       "      <td>head_and_neck_cancer</td>\n",
       "      <td>head_and_neck_cancer</td>\n",
       "      <td>head_and_neck_cancer</td>\n",
       "      <td>head_and_neck_cancer</td>\n",
       "      <td>head_and_neck_cancer</td>\n",
       "      <td>head_and_neck_cancer</td>\n",
       "      <td>head_and_neck_cancer</td>\n",
       "      <td>head_and_neck_cancer</td>\n",
       "      <td>...</td>\n",
       "      <td>head_and_neck_cancer</td>\n",
       "      <td>head_and_neck_cancer</td>\n",
       "      <td>head_and_neck_cancer</td>\n",
       "      <td>head_and_neck_cancer</td>\n",
       "      <td>head_and_neck_cancer</td>\n",
       "      <td>head_and_neck_cancer</td>\n",
       "      <td>head_and_neck_cancer</td>\n",
       "      <td>head_and_neck_cancer</td>\n",
       "      <td>head_and_neck_cancer</td>\n",
       "      <td>head_and_neck_cancer</td>\n",
       "    </tr>\n",
       "    <tr>\n",
       "      <th>1</th>\n",
       "      <td>NaN</td>\n",
       "      <td>100130426.0</td>\n",
       "      <td>0</td>\n",
       "      <td>0</td>\n",
       "      <td>0</td>\n",
       "      <td>0</td>\n",
       "      <td>0</td>\n",
       "      <td>0</td>\n",
       "      <td>0</td>\n",
       "      <td>0</td>\n",
       "      <td>...</td>\n",
       "      <td>0</td>\n",
       "      <td>0</td>\n",
       "      <td>0</td>\n",
       "      <td>0</td>\n",
       "      <td>0</td>\n",
       "      <td>0</td>\n",
       "      <td>0</td>\n",
       "      <td>0</td>\n",
       "      <td>0</td>\n",
       "      <td>0</td>\n",
       "    </tr>\n",
       "    <tr>\n",
       "      <th>2</th>\n",
       "      <td>NaN</td>\n",
       "      <td>100133144.0</td>\n",
       "      <td>3.149</td>\n",
       "      <td>12.8563</td>\n",
       "      <td>12.4833</td>\n",
       "      <td>23.8826</td>\n",
       "      <td>5.6502</td>\n",
       "      <td>4.1628</td>\n",
       "      <td>11.053</td>\n",
       "      <td>3.1584</td>\n",
       "      <td>...</td>\n",
       "      <td>17.3615</td>\n",
       "      <td>7.6763</td>\n",
       "      <td>38.3658</td>\n",
       "      <td>8.9107</td>\n",
       "      <td>7.2945</td>\n",
       "      <td>3.4805</td>\n",
       "      <td>3.5374</td>\n",
       "      <td>10.6623</td>\n",
       "      <td>45.2095</td>\n",
       "      <td>20.7612</td>\n",
       "    </tr>\n",
       "    <tr>\n",
       "      <th>3</th>\n",
       "      <td>NaN</td>\n",
       "      <td>100134869.0</td>\n",
       "      <td>12.8732</td>\n",
       "      <td>11.8081</td>\n",
       "      <td>4.308</td>\n",
       "      <td>14.6586</td>\n",
       "      <td>8.7235</td>\n",
       "      <td>3.5757</td>\n",
       "      <td>4.9834</td>\n",
       "      <td>7.6677</td>\n",
       "      <td>...</td>\n",
       "      <td>12.1251</td>\n",
       "      <td>18.4768</td>\n",
       "      <td>40.0111</td>\n",
       "      <td>6.694</td>\n",
       "      <td>4.6637</td>\n",
       "      <td>1.7143</td>\n",
       "      <td>14.1498</td>\n",
       "      <td>17.222</td>\n",
       "      <td>36</td>\n",
       "      <td>20.1042</td>\n",
       "    </tr>\n",
       "    <tr>\n",
       "      <th>4</th>\n",
       "      <td>NaN</td>\n",
       "      <td>10357.0</td>\n",
       "      <td>122.939</td>\n",
       "      <td>336.165</td>\n",
       "      <td>278.017</td>\n",
       "      <td>195.657</td>\n",
       "      <td>267.936</td>\n",
       "      <td>148.798</td>\n",
       "      <td>156.493</td>\n",
       "      <td>153.528</td>\n",
       "      <td>...</td>\n",
       "      <td>136.482</td>\n",
       "      <td>76.2962</td>\n",
       "      <td>119.1</td>\n",
       "      <td>191.805</td>\n",
       "      <td>25.4111</td>\n",
       "      <td>133.463</td>\n",
       "      <td>139.533</td>\n",
       "      <td>107.163</td>\n",
       "      <td>174.112</td>\n",
       "      <td>129.679</td>\n",
       "    </tr>\n",
       "  </tbody>\n",
       "</table>\n",
       "<p>5 rows × 517 columns</p>\n",
       "</div>"
      ],
      "text/plain": [
       "  Hugo_Symbol  Entrez_Gene_Id       TCGA-4P-AA8J-01       TCGA-BA-4074-01  \\\n",
       "0         NaN             NaN  head_and_neck_cancer  head_and_neck_cancer   \n",
       "1         NaN     100130426.0                     0                     0   \n",
       "2         NaN     100133144.0                 3.149               12.8563   \n",
       "3         NaN     100134869.0               12.8732               11.8081   \n",
       "4         NaN         10357.0               122.939               336.165   \n",
       "\n",
       "        TCGA-BA-4076-01       TCGA-BA-4078-01       TCGA-BA-5149-01  \\\n",
       "0  head_and_neck_cancer  head_and_neck_cancer  head_and_neck_cancer   \n",
       "1                     0                     0                     0   \n",
       "2               12.4833               23.8826                5.6502   \n",
       "3                 4.308               14.6586                8.7235   \n",
       "4               278.017               195.657               267.936   \n",
       "\n",
       "        TCGA-BA-5151-01       TCGA-BA-5152-01       TCGA-BA-5153-01  ...  \\\n",
       "0  head_and_neck_cancer  head_and_neck_cancer  head_and_neck_cancer  ...   \n",
       "1                     0                     0                     0  ...   \n",
       "2                4.1628                11.053                3.1584  ...   \n",
       "3                3.5757                4.9834                7.6677  ...   \n",
       "4               148.798               156.493               153.528  ...   \n",
       "\n",
       "        TCGA-UF-A7JH-01       TCGA-UF-A7JJ-01       TCGA-UF-A7JK-01  \\\n",
       "0  head_and_neck_cancer  head_and_neck_cancer  head_and_neck_cancer   \n",
       "1                     0                     0                     0   \n",
       "2               17.3615                7.6763               38.3658   \n",
       "3               12.1251               18.4768               40.0111   \n",
       "4               136.482               76.2962                 119.1   \n",
       "\n",
       "        TCGA-UF-A7JO-01       TCGA-UF-A7JS-01       TCGA-UF-A7JT-01  \\\n",
       "0  head_and_neck_cancer  head_and_neck_cancer  head_and_neck_cancer   \n",
       "1                     0                     0                     0   \n",
       "2                8.9107                7.2945                3.4805   \n",
       "3                 6.694                4.6637                1.7143   \n",
       "4               191.805               25.4111               133.463   \n",
       "\n",
       "        TCGA-UF-A7JV-01       TCGA-UP-A6WW-01       TCGA-WA-A7GZ-01  \\\n",
       "0  head_and_neck_cancer  head_and_neck_cancer  head_and_neck_cancer   \n",
       "1                     0                     0                     0   \n",
       "2                3.5374               10.6623               45.2095   \n",
       "3               14.1498                17.222                    36   \n",
       "4               139.533               107.163               174.112   \n",
       "\n",
       "        TCGA-WA-A7H4-01  \n",
       "0  head_and_neck_cancer  \n",
       "1                     0  \n",
       "2               20.7612  \n",
       "3               20.1042  \n",
       "4               129.679  \n",
       "\n",
       "[5 rows x 517 columns]"
      ]
     },
     "execution_count": 3,
     "metadata": {},
     "output_type": "execute_result"
    }
   ],
   "source": [
    "df.head()"
   ]
  },
  {
   "cell_type": "code",
   "execution_count": 4,
   "metadata": {},
   "outputs": [
    {
     "data": {
      "text/plain": [
       "(20532, 517)"
      ]
     },
     "execution_count": 4,
     "metadata": {},
     "output_type": "execute_result"
    }
   ],
   "source": [
    "df.shape"
   ]
  },
  {
   "cell_type": "code",
   "execution_count": 5,
   "metadata": {},
   "outputs": [],
   "source": [
    "head_and_neck_cancer_train = df.iloc[:, 1:102]"
   ]
  },
  {
   "cell_type": "code",
   "execution_count": 6,
   "metadata": {},
   "outputs": [
    {
     "data": {
      "text/plain": [
       "(20532, 101)"
      ]
     },
     "execution_count": 6,
     "metadata": {},
     "output_type": "execute_result"
    }
   ],
   "source": [
    "head_and_neck_cancer_train.shape"
   ]
  },
  {
   "cell_type": "code",
   "execution_count": 7,
   "metadata": {},
   "outputs": [],
   "source": [
    "head_and_neck_cancer_train.to_csv('head_and_neck_cancer_train.csv', index = False)"
   ]
  },
  {
   "cell_type": "code",
   "execution_count": 8,
   "metadata": {},
   "outputs": [],
   "source": [
    "head_and_neck_cancer_test = pd.concat([df.iloc[:, 1:2], df.iloc[:, 103:123]], axis = 1)"
   ]
  },
  {
   "cell_type": "code",
   "execution_count": 9,
   "metadata": {},
   "outputs": [
    {
     "data": {
      "text/plain": [
       "(20532, 21)"
      ]
     },
     "execution_count": 9,
     "metadata": {},
     "output_type": "execute_result"
    }
   ],
   "source": [
    "head_and_neck_cancer_test.shape"
   ]
  },
  {
   "cell_type": "code",
   "execution_count": 10,
   "metadata": {},
   "outputs": [],
   "source": [
    "head_and_neck_cancer_test.to_csv('head_and_neck_cancer_test.csv', index = False)"
   ]
  },
  {
   "cell_type": "code",
   "execution_count": null,
   "metadata": {},
   "outputs": [],
   "source": []
  }
 ],
 "metadata": {
  "kernelspec": {
   "display_name": "Python 3",
   "language": "python",
   "name": "python3"
  },
  "language_info": {
   "codemirror_mode": {
    "name": "ipython",
    "version": 3
   },
   "file_extension": ".py",
   "mimetype": "text/x-python",
   "name": "python",
   "nbconvert_exporter": "python",
   "pygments_lexer": "ipython3",
   "version": "3.7.1"
  }
 },
 "nbformat": 4,
 "nbformat_minor": 4
}
