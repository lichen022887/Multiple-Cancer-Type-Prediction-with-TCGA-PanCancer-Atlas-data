{
 "cells": [
  {
   "cell_type": "code",
   "execution_count": 1,
   "metadata": {},
   "outputs": [],
   "source": [
    "import pandas as pd\n",
    "import warnings\n",
    "warnings.filterwarnings('ignore')"
   ]
  },
  {
   "cell_type": "code",
   "execution_count": 2,
   "metadata": {},
   "outputs": [],
   "source": [
    "df = pd.read_csv('Lung_sc.csv')"
   ]
  },
  {
   "cell_type": "code",
   "execution_count": 3,
   "metadata": {},
   "outputs": [
    {
     "data": {
      "text/html": [
       "<div>\n",
       "<style scoped>\n",
       "    .dataframe tbody tr th:only-of-type {\n",
       "        vertical-align: middle;\n",
       "    }\n",
       "\n",
       "    .dataframe tbody tr th {\n",
       "        vertical-align: top;\n",
       "    }\n",
       "\n",
       "    .dataframe thead th {\n",
       "        text-align: right;\n",
       "    }\n",
       "</style>\n",
       "<table border=\"1\" class=\"dataframe\">\n",
       "  <thead>\n",
       "    <tr style=\"text-align: right;\">\n",
       "      <th></th>\n",
       "      <th>Hugo_Symbol</th>\n",
       "      <th>Entrez_Gene_Id</th>\n",
       "      <th>TCGA-18-3406-01</th>\n",
       "      <th>TCGA-18-3407-01</th>\n",
       "      <th>TCGA-18-3408-01</th>\n",
       "      <th>TCGA-18-3410-01</th>\n",
       "      <th>TCGA-18-3411-01</th>\n",
       "      <th>TCGA-18-3412-01</th>\n",
       "      <th>TCGA-18-3414-01</th>\n",
       "      <th>TCGA-18-3415-01</th>\n",
       "      <th>...</th>\n",
       "      <th>TCGA-NK-A5CT-01</th>\n",
       "      <th>TCGA-NK-A5CX-01</th>\n",
       "      <th>TCGA-NK-A7XE-01</th>\n",
       "      <th>TCGA-O2-A52N-01</th>\n",
       "      <th>TCGA-O2-A52Q-01</th>\n",
       "      <th>TCGA-O2-A52S-01</th>\n",
       "      <th>TCGA-O2-A52V-01</th>\n",
       "      <th>TCGA-O2-A52W-01</th>\n",
       "      <th>TCGA-O2-A5IB-01</th>\n",
       "      <th>TCGA-XC-AA0X-01</th>\n",
       "    </tr>\n",
       "  </thead>\n",
       "  <tbody>\n",
       "    <tr>\n",
       "      <th>0</th>\n",
       "      <td>NaN</td>\n",
       "      <td>NaN</td>\n",
       "      <td>Lung_sc</td>\n",
       "      <td>Lung_sc</td>\n",
       "      <td>Lung_sc</td>\n",
       "      <td>Lung_sc</td>\n",
       "      <td>Lung_sc</td>\n",
       "      <td>Lung_sc</td>\n",
       "      <td>Lung_sc</td>\n",
       "      <td>Lung_sc</td>\n",
       "      <td>...</td>\n",
       "      <td>Lung_sc</td>\n",
       "      <td>Lung_sc</td>\n",
       "      <td>Lung_sc</td>\n",
       "      <td>Lung_sc</td>\n",
       "      <td>Lung_sc</td>\n",
       "      <td>Lung_sc</td>\n",
       "      <td>Lung_sc</td>\n",
       "      <td>Lung_sc</td>\n",
       "      <td>Lung_sc</td>\n",
       "      <td>Lung_sc</td>\n",
       "    </tr>\n",
       "    <tr>\n",
       "      <th>1</th>\n",
       "      <td>NaN</td>\n",
       "      <td>100130426.0</td>\n",
       "      <td>0</td>\n",
       "      <td>0</td>\n",
       "      <td>0</td>\n",
       "      <td>0</td>\n",
       "      <td>0</td>\n",
       "      <td>0</td>\n",
       "      <td>0</td>\n",
       "      <td>0</td>\n",
       "      <td>...</td>\n",
       "      <td>0</td>\n",
       "      <td>0</td>\n",
       "      <td>0</td>\n",
       "      <td>0</td>\n",
       "      <td>0</td>\n",
       "      <td>0</td>\n",
       "      <td>0</td>\n",
       "      <td>0</td>\n",
       "      <td>0</td>\n",
       "      <td>0</td>\n",
       "    </tr>\n",
       "    <tr>\n",
       "      <th>2</th>\n",
       "      <td>NaN</td>\n",
       "      <td>100133144.0</td>\n",
       "      <td>75.3622</td>\n",
       "      <td>14.4148</td>\n",
       "      <td>8.4888</td>\n",
       "      <td>16.6653</td>\n",
       "      <td>12.9418</td>\n",
       "      <td>47.5782</td>\n",
       "      <td>12.3168</td>\n",
       "      <td>55.1387</td>\n",
       "      <td>...</td>\n",
       "      <td>11.4308</td>\n",
       "      <td>40.3766</td>\n",
       "      <td>20.8723</td>\n",
       "      <td>30.224</td>\n",
       "      <td>4.2895</td>\n",
       "      <td>19.9503</td>\n",
       "      <td>30.0872</td>\n",
       "      <td>53.6593</td>\n",
       "      <td>72.5666</td>\n",
       "      <td>44.7501</td>\n",
       "    </tr>\n",
       "    <tr>\n",
       "      <th>3</th>\n",
       "      <td>NaN</td>\n",
       "      <td>100134869.0</td>\n",
       "      <td>25.4252</td>\n",
       "      <td>6.9933</td>\n",
       "      <td>3.3754</td>\n",
       "      <td>19.5722</td>\n",
       "      <td>14.4142</td>\n",
       "      <td>20.8881</td>\n",
       "      <td>25.7116</td>\n",
       "      <td>39.0809</td>\n",
       "      <td>...</td>\n",
       "      <td>2.2967</td>\n",
       "      <td>17.3322</td>\n",
       "      <td>15.7901</td>\n",
       "      <td>4.2022</td>\n",
       "      <td>3.6632</td>\n",
       "      <td>47.1026</td>\n",
       "      <td>15.2957</td>\n",
       "      <td>33.3907</td>\n",
       "      <td>42.1832</td>\n",
       "      <td>23.6304</td>\n",
       "    </tr>\n",
       "    <tr>\n",
       "      <th>4</th>\n",
       "      <td>NaN</td>\n",
       "      <td>10357.0</td>\n",
       "      <td>279.976</td>\n",
       "      <td>198.254</td>\n",
       "      <td>254.593</td>\n",
       "      <td>200.803</td>\n",
       "      <td>277.667</td>\n",
       "      <td>394.362</td>\n",
       "      <td>205.87</td>\n",
       "      <td>162.041</td>\n",
       "      <td>...</td>\n",
       "      <td>97.8986</td>\n",
       "      <td>142.369</td>\n",
       "      <td>133.691</td>\n",
       "      <td>131.563</td>\n",
       "      <td>153.598</td>\n",
       "      <td>176.718</td>\n",
       "      <td>188.721</td>\n",
       "      <td>260.333</td>\n",
       "      <td>160.162</td>\n",
       "      <td>76.6488</td>\n",
       "    </tr>\n",
       "  </tbody>\n",
       "</table>\n",
       "<p>5 rows × 486 columns</p>\n",
       "</div>"
      ],
      "text/plain": [
       "  Hugo_Symbol  Entrez_Gene_Id TCGA-18-3406-01 TCGA-18-3407-01 TCGA-18-3408-01  \\\n",
       "0         NaN             NaN         Lung_sc         Lung_sc         Lung_sc   \n",
       "1         NaN     100130426.0               0               0               0   \n",
       "2         NaN     100133144.0         75.3622         14.4148          8.4888   \n",
       "3         NaN     100134869.0         25.4252          6.9933          3.3754   \n",
       "4         NaN         10357.0         279.976         198.254         254.593   \n",
       "\n",
       "  TCGA-18-3410-01 TCGA-18-3411-01 TCGA-18-3412-01 TCGA-18-3414-01  \\\n",
       "0         Lung_sc         Lung_sc         Lung_sc         Lung_sc   \n",
       "1               0               0               0               0   \n",
       "2         16.6653         12.9418         47.5782         12.3168   \n",
       "3         19.5722         14.4142         20.8881         25.7116   \n",
       "4         200.803         277.667         394.362          205.87   \n",
       "\n",
       "  TCGA-18-3415-01  ... TCGA-NK-A5CT-01 TCGA-NK-A5CX-01 TCGA-NK-A7XE-01  \\\n",
       "0         Lung_sc  ...         Lung_sc         Lung_sc         Lung_sc   \n",
       "1               0  ...               0               0               0   \n",
       "2         55.1387  ...         11.4308         40.3766         20.8723   \n",
       "3         39.0809  ...          2.2967         17.3322         15.7901   \n",
       "4         162.041  ...         97.8986         142.369         133.691   \n",
       "\n",
       "  TCGA-O2-A52N-01 TCGA-O2-A52Q-01 TCGA-O2-A52S-01 TCGA-O2-A52V-01  \\\n",
       "0         Lung_sc         Lung_sc         Lung_sc         Lung_sc   \n",
       "1               0               0               0               0   \n",
       "2          30.224          4.2895         19.9503         30.0872   \n",
       "3          4.2022          3.6632         47.1026         15.2957   \n",
       "4         131.563         153.598         176.718         188.721   \n",
       "\n",
       "  TCGA-O2-A52W-01 TCGA-O2-A5IB-01 TCGA-XC-AA0X-01  \n",
       "0         Lung_sc         Lung_sc         Lung_sc  \n",
       "1               0               0               0  \n",
       "2         53.6593         72.5666         44.7501  \n",
       "3         33.3907         42.1832         23.6304  \n",
       "4         260.333         160.162         76.6488  \n",
       "\n",
       "[5 rows x 486 columns]"
      ]
     },
     "execution_count": 3,
     "metadata": {},
     "output_type": "execute_result"
    }
   ],
   "source": [
    "df.head()"
   ]
  },
  {
   "cell_type": "code",
   "execution_count": 4,
   "metadata": {},
   "outputs": [
    {
     "data": {
      "text/plain": [
       "(20532, 486)"
      ]
     },
     "execution_count": 4,
     "metadata": {},
     "output_type": "execute_result"
    }
   ],
   "source": [
    "df.shape"
   ]
  },
  {
   "cell_type": "code",
   "execution_count": 5,
   "metadata": {},
   "outputs": [],
   "source": [
    "Lung_sc_train = df.iloc[:, 1:102]"
   ]
  },
  {
   "cell_type": "code",
   "execution_count": 6,
   "metadata": {},
   "outputs": [
    {
     "data": {
      "text/plain": [
       "(20532, 101)"
      ]
     },
     "execution_count": 6,
     "metadata": {},
     "output_type": "execute_result"
    }
   ],
   "source": [
    "Lung_sc_train.shape"
   ]
  },
  {
   "cell_type": "code",
   "execution_count": 7,
   "metadata": {},
   "outputs": [],
   "source": [
    "Lung_sc_train.to_csv('Lung_sc_train.csv', index = False)"
   ]
  },
  {
   "cell_type": "code",
   "execution_count": 10,
   "metadata": {},
   "outputs": [],
   "source": [
    "Lung_sc_test = pd.concat([df.iloc[:, 1:2], df.iloc[:, 103:123]], axis=1)"
   ]
  },
  {
   "cell_type": "code",
   "execution_count": 11,
   "metadata": {},
   "outputs": [
    {
     "data": {
      "text/plain": [
       "(20532, 21)"
      ]
     },
     "execution_count": 11,
     "metadata": {},
     "output_type": "execute_result"
    }
   ],
   "source": [
    "Lung_sc_test.shape"
   ]
  },
  {
   "cell_type": "code",
   "execution_count": 12,
   "metadata": {},
   "outputs": [],
   "source": [
    "Lung_sc_test.to_csv('Lung_sc_test.csv', index = False)"
   ]
  },
  {
   "cell_type": "code",
   "execution_count": null,
   "metadata": {},
   "outputs": [],
   "source": []
  }
 ],
 "metadata": {
  "kernelspec": {
   "display_name": "Python 3",
   "language": "python",
   "name": "python3"
  },
  "language_info": {
   "codemirror_mode": {
    "name": "ipython",
    "version": 3
   },
   "file_extension": ".py",
   "mimetype": "text/x-python",
   "name": "python",
   "nbconvert_exporter": "python",
   "pygments_lexer": "ipython3",
   "version": "3.7.1"
  }
 },
 "nbformat": 4,
 "nbformat_minor": 4
}
