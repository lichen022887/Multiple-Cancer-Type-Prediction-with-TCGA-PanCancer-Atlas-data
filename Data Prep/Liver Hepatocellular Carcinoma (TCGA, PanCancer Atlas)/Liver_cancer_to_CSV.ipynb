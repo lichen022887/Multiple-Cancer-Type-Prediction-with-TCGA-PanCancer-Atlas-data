{
 "cells": [
  {
   "cell_type": "code",
   "execution_count": 1,
   "metadata": {},
   "outputs": [],
   "source": [
    "import pandas as pd\n",
    "import warnings\n",
    "warnings.filterwarnings('ignore')"
   ]
  },
  {
   "cell_type": "code",
   "execution_count": 2,
   "metadata": {},
   "outputs": [],
   "source": [
    "df = pd.read_csv('Liver_cancer.csv')"
   ]
  },
  {
   "cell_type": "code",
   "execution_count": 3,
   "metadata": {},
   "outputs": [
    {
     "data": {
      "text/html": [
       "<div>\n",
       "<style scoped>\n",
       "    .dataframe tbody tr th:only-of-type {\n",
       "        vertical-align: middle;\n",
       "    }\n",
       "\n",
       "    .dataframe tbody tr th {\n",
       "        vertical-align: top;\n",
       "    }\n",
       "\n",
       "    .dataframe thead th {\n",
       "        text-align: right;\n",
       "    }\n",
       "</style>\n",
       "<table border=\"1\" class=\"dataframe\">\n",
       "  <thead>\n",
       "    <tr style=\"text-align: right;\">\n",
       "      <th></th>\n",
       "      <th>Hugo_Symbol</th>\n",
       "      <th>Entrez_Gene_Id</th>\n",
       "      <th>TCGA-2V-A95S-01</th>\n",
       "      <th>TCGA-2Y-A9GS-01</th>\n",
       "      <th>TCGA-2Y-A9GT-01</th>\n",
       "      <th>TCGA-2Y-A9GU-01</th>\n",
       "      <th>TCGA-2Y-A9GV-01</th>\n",
       "      <th>TCGA-2Y-A9GW-01</th>\n",
       "      <th>TCGA-2Y-A9GX-01</th>\n",
       "      <th>TCGA-2Y-A9GY-01</th>\n",
       "      <th>...</th>\n",
       "      <th>TCGA-ZP-A9CY-01</th>\n",
       "      <th>TCGA-ZP-A9CZ-01</th>\n",
       "      <th>TCGA-ZP-A9D0-01</th>\n",
       "      <th>TCGA-ZP-A9D1-01</th>\n",
       "      <th>TCGA-ZP-A9D2-01</th>\n",
       "      <th>TCGA-ZP-A9D4-01</th>\n",
       "      <th>TCGA-ZS-A9CD-01</th>\n",
       "      <th>TCGA-ZS-A9CE-01</th>\n",
       "      <th>TCGA-ZS-A9CF-01</th>\n",
       "      <th>TCGA-ZS-A9CG-01</th>\n",
       "    </tr>\n",
       "  </thead>\n",
       "  <tbody>\n",
       "    <tr>\n",
       "      <th>0</th>\n",
       "      <td>NaN</td>\n",
       "      <td>NaN</td>\n",
       "      <td>Liver_cancer</td>\n",
       "      <td>Liver_cancer</td>\n",
       "      <td>Liver_cancer</td>\n",
       "      <td>Liver_cancer</td>\n",
       "      <td>Liver_cancer</td>\n",
       "      <td>Liver_cancer</td>\n",
       "      <td>Liver_cancer</td>\n",
       "      <td>Liver_cancer</td>\n",
       "      <td>...</td>\n",
       "      <td>Liver_cancer</td>\n",
       "      <td>Liver_cancer</td>\n",
       "      <td>Liver_cancer</td>\n",
       "      <td>Liver_cancer</td>\n",
       "      <td>Liver_cancer</td>\n",
       "      <td>Liver_cancer</td>\n",
       "      <td>Liver_cancer</td>\n",
       "      <td>Liver_cancer</td>\n",
       "      <td>Liver_cancer</td>\n",
       "      <td>Liver_cancer</td>\n",
       "    </tr>\n",
       "    <tr>\n",
       "      <th>1</th>\n",
       "      <td>NaN</td>\n",
       "      <td>100130426.0</td>\n",
       "      <td>0</td>\n",
       "      <td>0</td>\n",
       "      <td>0</td>\n",
       "      <td>0</td>\n",
       "      <td>0</td>\n",
       "      <td>0</td>\n",
       "      <td>0</td>\n",
       "      <td>0</td>\n",
       "      <td>...</td>\n",
       "      <td>0</td>\n",
       "      <td>0</td>\n",
       "      <td>0</td>\n",
       "      <td>0</td>\n",
       "      <td>0</td>\n",
       "      <td>0</td>\n",
       "      <td>0</td>\n",
       "      <td>0</td>\n",
       "      <td>0</td>\n",
       "      <td>0</td>\n",
       "    </tr>\n",
       "    <tr>\n",
       "      <th>2</th>\n",
       "      <td>NaN</td>\n",
       "      <td>100133144.0</td>\n",
       "      <td>1.5051</td>\n",
       "      <td>26.412</td>\n",
       "      <td>0</td>\n",
       "      <td>5.7222</td>\n",
       "      <td>11.4975</td>\n",
       "      <td>3.9234</td>\n",
       "      <td>0</td>\n",
       "      <td>3.5137</td>\n",
       "      <td>...</td>\n",
       "      <td>10.8529</td>\n",
       "      <td>3.8367</td>\n",
       "      <td>3.9575</td>\n",
       "      <td>2.2186</td>\n",
       "      <td>15.9098</td>\n",
       "      <td>1.0069</td>\n",
       "      <td>4.2224</td>\n",
       "      <td>0</td>\n",
       "      <td>7.3398</td>\n",
       "      <td>0</td>\n",
       "    </tr>\n",
       "    <tr>\n",
       "      <th>3</th>\n",
       "      <td>NaN</td>\n",
       "      <td>100134869.0</td>\n",
       "      <td>3.7074</td>\n",
       "      <td>2.6663</td>\n",
       "      <td>4.4833</td>\n",
       "      <td>5.1216</td>\n",
       "      <td>5.423</td>\n",
       "      <td>7.5709</td>\n",
       "      <td>8.4848</td>\n",
       "      <td>6.1275</td>\n",
       "      <td>...</td>\n",
       "      <td>7.59</td>\n",
       "      <td>4.8549</td>\n",
       "      <td>2.4775</td>\n",
       "      <td>4.8553</td>\n",
       "      <td>18.6608</td>\n",
       "      <td>6.9127</td>\n",
       "      <td>1.7881</td>\n",
       "      <td>8.7527</td>\n",
       "      <td>9.8897</td>\n",
       "      <td>8.2262</td>\n",
       "    </tr>\n",
       "    <tr>\n",
       "      <th>4</th>\n",
       "      <td>NaN</td>\n",
       "      <td>10357.0</td>\n",
       "      <td>90.1124</td>\n",
       "      <td>71.0054</td>\n",
       "      <td>95.5122</td>\n",
       "      <td>61.6679</td>\n",
       "      <td>104.467</td>\n",
       "      <td>99.4866</td>\n",
       "      <td>75.0909</td>\n",
       "      <td>45.1098</td>\n",
       "      <td>...</td>\n",
       "      <td>70.5582</td>\n",
       "      <td>93.5837</td>\n",
       "      <td>62.973</td>\n",
       "      <td>73.0161</td>\n",
       "      <td>65.1237</td>\n",
       "      <td>71.2827</td>\n",
       "      <td>64.5605</td>\n",
       "      <td>64.9891</td>\n",
       "      <td>105.886</td>\n",
       "      <td>57.1654</td>\n",
       "    </tr>\n",
       "  </tbody>\n",
       "</table>\n",
       "<p>5 rows × 368 columns</p>\n",
       "</div>"
      ],
      "text/plain": [
       "  Hugo_Symbol  Entrez_Gene_Id TCGA-2V-A95S-01 TCGA-2Y-A9GS-01 TCGA-2Y-A9GT-01  \\\n",
       "0         NaN             NaN    Liver_cancer    Liver_cancer    Liver_cancer   \n",
       "1         NaN     100130426.0               0               0               0   \n",
       "2         NaN     100133144.0          1.5051          26.412               0   \n",
       "3         NaN     100134869.0          3.7074          2.6663          4.4833   \n",
       "4         NaN         10357.0         90.1124         71.0054         95.5122   \n",
       "\n",
       "  TCGA-2Y-A9GU-01 TCGA-2Y-A9GV-01 TCGA-2Y-A9GW-01 TCGA-2Y-A9GX-01  \\\n",
       "0    Liver_cancer    Liver_cancer    Liver_cancer    Liver_cancer   \n",
       "1               0               0               0               0   \n",
       "2          5.7222         11.4975          3.9234               0   \n",
       "3          5.1216           5.423          7.5709          8.4848   \n",
       "4         61.6679         104.467         99.4866         75.0909   \n",
       "\n",
       "  TCGA-2Y-A9GY-01  ... TCGA-ZP-A9CY-01 TCGA-ZP-A9CZ-01 TCGA-ZP-A9D0-01  \\\n",
       "0    Liver_cancer  ...    Liver_cancer    Liver_cancer    Liver_cancer   \n",
       "1               0  ...               0               0               0   \n",
       "2          3.5137  ...         10.8529          3.8367          3.9575   \n",
       "3          6.1275  ...            7.59          4.8549          2.4775   \n",
       "4         45.1098  ...         70.5582         93.5837          62.973   \n",
       "\n",
       "  TCGA-ZP-A9D1-01 TCGA-ZP-A9D2-01 TCGA-ZP-A9D4-01 TCGA-ZS-A9CD-01  \\\n",
       "0    Liver_cancer    Liver_cancer    Liver_cancer    Liver_cancer   \n",
       "1               0               0               0               0   \n",
       "2          2.2186         15.9098          1.0069          4.2224   \n",
       "3          4.8553         18.6608          6.9127          1.7881   \n",
       "4         73.0161         65.1237         71.2827         64.5605   \n",
       "\n",
       "  TCGA-ZS-A9CE-01 TCGA-ZS-A9CF-01 TCGA-ZS-A9CG-01  \n",
       "0    Liver_cancer    Liver_cancer    Liver_cancer  \n",
       "1               0               0               0  \n",
       "2               0          7.3398               0  \n",
       "3          8.7527          9.8897          8.2262  \n",
       "4         64.9891         105.886         57.1654  \n",
       "\n",
       "[5 rows x 368 columns]"
      ]
     },
     "execution_count": 3,
     "metadata": {},
     "output_type": "execute_result"
    }
   ],
   "source": [
    "df.head()"
   ]
  },
  {
   "cell_type": "code",
   "execution_count": 4,
   "metadata": {},
   "outputs": [
    {
     "data": {
      "text/plain": [
       "(20532, 368)"
      ]
     },
     "execution_count": 4,
     "metadata": {},
     "output_type": "execute_result"
    }
   ],
   "source": [
    "df.shape"
   ]
  },
  {
   "cell_type": "code",
   "execution_count": 5,
   "metadata": {},
   "outputs": [],
   "source": [
    "Liver_cancer_train = df.iloc[:, 1:102]"
   ]
  },
  {
   "cell_type": "code",
   "execution_count": 6,
   "metadata": {},
   "outputs": [
    {
     "data": {
      "text/plain": [
       "(20532, 101)"
      ]
     },
     "execution_count": 6,
     "metadata": {},
     "output_type": "execute_result"
    }
   ],
   "source": [
    "Liver_cancer_train.shape"
   ]
  },
  {
   "cell_type": "code",
   "execution_count": 7,
   "metadata": {},
   "outputs": [],
   "source": [
    "Liver_cancer_train.to_csv('Liver_cancer_train.csv', index = False)"
   ]
  },
  {
   "cell_type": "code",
   "execution_count": 8,
   "metadata": {},
   "outputs": [],
   "source": [
    "Liver_cancer_test = pd.concat([df.iloc[:, 1:2], df.iloc[:, 103:123]], axis = 1)"
   ]
  },
  {
   "cell_type": "code",
   "execution_count": 9,
   "metadata": {},
   "outputs": [
    {
     "data": {
      "text/plain": [
       "(20532, 21)"
      ]
     },
     "execution_count": 9,
     "metadata": {},
     "output_type": "execute_result"
    }
   ],
   "source": [
    "Liver_cancer_test.shape"
   ]
  },
  {
   "cell_type": "code",
   "execution_count": 10,
   "metadata": {},
   "outputs": [],
   "source": [
    "Liver_cancer_test.to_csv('Liver_cancer_test.csv', index = False)"
   ]
  },
  {
   "cell_type": "code",
   "execution_count": null,
   "metadata": {},
   "outputs": [],
   "source": []
  }
 ],
 "metadata": {
  "kernelspec": {
   "display_name": "Python 3",
   "language": "python",
   "name": "python3"
  },
  "language_info": {
   "codemirror_mode": {
    "name": "ipython",
    "version": 3
   },
   "file_extension": ".py",
   "mimetype": "text/x-python",
   "name": "python",
   "nbconvert_exporter": "python",
   "pygments_lexer": "ipython3",
   "version": "3.7.1"
  }
 },
 "nbformat": 4,
 "nbformat_minor": 4
}
