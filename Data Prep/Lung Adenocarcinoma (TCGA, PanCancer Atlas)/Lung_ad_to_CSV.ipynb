{
 "cells": [
  {
   "cell_type": "code",
   "execution_count": 1,
   "metadata": {},
   "outputs": [],
   "source": [
    "import pandas as pd\n",
    "import warnings\n",
    "warnings.filterwarnings('ignore')"
   ]
  },
  {
   "cell_type": "code",
   "execution_count": 2,
   "metadata": {},
   "outputs": [],
   "source": [
    "df = pd.read_csv('Lung_ad.csv')"
   ]
  },
  {
   "cell_type": "code",
   "execution_count": 3,
   "metadata": {},
   "outputs": [
    {
     "data": {
      "text/html": [
       "<div>\n",
       "<style scoped>\n",
       "    .dataframe tbody tr th:only-of-type {\n",
       "        vertical-align: middle;\n",
       "    }\n",
       "\n",
       "    .dataframe tbody tr th {\n",
       "        vertical-align: top;\n",
       "    }\n",
       "\n",
       "    .dataframe thead th {\n",
       "        text-align: right;\n",
       "    }\n",
       "</style>\n",
       "<table border=\"1\" class=\"dataframe\">\n",
       "  <thead>\n",
       "    <tr style=\"text-align: right;\">\n",
       "      <th></th>\n",
       "      <th>Hugo_Symbol</th>\n",
       "      <th>Entrez_Gene_Id</th>\n",
       "      <th>TCGA-05-4244-01</th>\n",
       "      <th>TCGA-05-4249-01</th>\n",
       "      <th>TCGA-05-4250-01</th>\n",
       "      <th>TCGA-05-4382-01</th>\n",
       "      <th>TCGA-05-4384-01</th>\n",
       "      <th>TCGA-05-4389-01</th>\n",
       "      <th>TCGA-05-4390-01</th>\n",
       "      <th>TCGA-05-4395-01</th>\n",
       "      <th>...</th>\n",
       "      <th>TCGA-NJ-A4YG-01</th>\n",
       "      <th>TCGA-NJ-A4YI-01</th>\n",
       "      <th>TCGA-NJ-A4YP-01</th>\n",
       "      <th>TCGA-NJ-A4YQ-01</th>\n",
       "      <th>TCGA-NJ-A55A-01</th>\n",
       "      <th>TCGA-NJ-A55O-01</th>\n",
       "      <th>TCGA-NJ-A55R-01</th>\n",
       "      <th>TCGA-NJ-A7XG-01</th>\n",
       "      <th>TCGA-O1-A52J-01</th>\n",
       "      <th>TCGA-S2-AA1A-01</th>\n",
       "    </tr>\n",
       "  </thead>\n",
       "  <tbody>\n",
       "    <tr>\n",
       "      <th>0</th>\n",
       "      <td>NaN</td>\n",
       "      <td>NaN</td>\n",
       "      <td>Lung_ad</td>\n",
       "      <td>Lung_ad</td>\n",
       "      <td>Lung_ad</td>\n",
       "      <td>Lung_ad</td>\n",
       "      <td>Lung_ad</td>\n",
       "      <td>Lung_ad</td>\n",
       "      <td>Lung_ad</td>\n",
       "      <td>Lung_ad</td>\n",
       "      <td>...</td>\n",
       "      <td>Lung_ad</td>\n",
       "      <td>Lung_ad</td>\n",
       "      <td>Lung_ad</td>\n",
       "      <td>Lung_ad</td>\n",
       "      <td>Lung_ad</td>\n",
       "      <td>Lung_ad</td>\n",
       "      <td>Lung_ad</td>\n",
       "      <td>Lung_ad</td>\n",
       "      <td>Lung_ad</td>\n",
       "      <td>Lung_ad</td>\n",
       "    </tr>\n",
       "    <tr>\n",
       "      <th>1</th>\n",
       "      <td>NaN</td>\n",
       "      <td>100130426.0</td>\n",
       "      <td>0</td>\n",
       "      <td>0</td>\n",
       "      <td>0</td>\n",
       "      <td>0</td>\n",
       "      <td>0</td>\n",
       "      <td>0</td>\n",
       "      <td>0</td>\n",
       "      <td>0</td>\n",
       "      <td>...</td>\n",
       "      <td>0</td>\n",
       "      <td>0</td>\n",
       "      <td>0</td>\n",
       "      <td>0</td>\n",
       "      <td>0</td>\n",
       "      <td>0</td>\n",
       "      <td>0</td>\n",
       "      <td>0</td>\n",
       "      <td>0</td>\n",
       "      <td>0</td>\n",
       "    </tr>\n",
       "    <tr>\n",
       "      <th>2</th>\n",
       "      <td>NaN</td>\n",
       "      <td>100133144.0</td>\n",
       "      <td>10.0113</td>\n",
       "      <td>7.1957</td>\n",
       "      <td>7.2453</td>\n",
       "      <td>11.3311</td>\n",
       "      <td>3.2254</td>\n",
       "      <td>4</td>\n",
       "      <td>7.1084</td>\n",
       "      <td>3.436</td>\n",
       "      <td>...</td>\n",
       "      <td>11.7148</td>\n",
       "      <td>3.6657</td>\n",
       "      <td>2.3298</td>\n",
       "      <td>16.3214</td>\n",
       "      <td>20.3514</td>\n",
       "      <td>15.5193</td>\n",
       "      <td>8.4195</td>\n",
       "      <td>42.9857</td>\n",
       "      <td>14.0861</td>\n",
       "      <td>20.5338</td>\n",
       "    </tr>\n",
       "    <tr>\n",
       "      <th>3</th>\n",
       "      <td>NaN</td>\n",
       "      <td>100134869.0</td>\n",
       "      <td>11.282</td>\n",
       "      <td>12.4436</td>\n",
       "      <td>6.0184</td>\n",
       "      <td>7.574</td>\n",
       "      <td>3.4942</td>\n",
       "      <td>13.7852</td>\n",
       "      <td>7.581</td>\n",
       "      <td>12.1335</td>\n",
       "      <td>...</td>\n",
       "      <td>11.9573</td>\n",
       "      <td>9.7617</td>\n",
       "      <td>8.341</td>\n",
       "      <td>7.533</td>\n",
       "      <td>17.2393</td>\n",
       "      <td>22.9872</td>\n",
       "      <td>10.3226</td>\n",
       "      <td>81.1128</td>\n",
       "      <td>24.1914</td>\n",
       "      <td>8.95</td>\n",
       "    </tr>\n",
       "    <tr>\n",
       "      <th>4</th>\n",
       "      <td>NaN</td>\n",
       "      <td>10357.0</td>\n",
       "      <td>49.5994</td>\n",
       "      <td>90.5117</td>\n",
       "      <td>49.5366</td>\n",
       "      <td>82.8303</td>\n",
       "      <td>72.5351</td>\n",
       "      <td>66.3658</td>\n",
       "      <td>109.181</td>\n",
       "      <td>57.0596</td>\n",
       "      <td>...</td>\n",
       "      <td>163.574</td>\n",
       "      <td>130.749</td>\n",
       "      <td>101.74</td>\n",
       "      <td>82.4231</td>\n",
       "      <td>100.42</td>\n",
       "      <td>100.187</td>\n",
       "      <td>74.721</td>\n",
       "      <td>85.3715</td>\n",
       "      <td>61.1388</td>\n",
       "      <td>76.9265</td>\n",
       "    </tr>\n",
       "  </tbody>\n",
       "</table>\n",
       "<p>5 rows × 512 columns</p>\n",
       "</div>"
      ],
      "text/plain": [
       "  Hugo_Symbol  Entrez_Gene_Id TCGA-05-4244-01 TCGA-05-4249-01 TCGA-05-4250-01  \\\n",
       "0         NaN             NaN         Lung_ad         Lung_ad         Lung_ad   \n",
       "1         NaN     100130426.0               0               0               0   \n",
       "2         NaN     100133144.0         10.0113          7.1957          7.2453   \n",
       "3         NaN     100134869.0          11.282         12.4436          6.0184   \n",
       "4         NaN         10357.0         49.5994         90.5117         49.5366   \n",
       "\n",
       "  TCGA-05-4382-01 TCGA-05-4384-01 TCGA-05-4389-01 TCGA-05-4390-01  \\\n",
       "0         Lung_ad         Lung_ad         Lung_ad         Lung_ad   \n",
       "1               0               0               0               0   \n",
       "2         11.3311          3.2254               4          7.1084   \n",
       "3           7.574          3.4942         13.7852           7.581   \n",
       "4         82.8303         72.5351         66.3658         109.181   \n",
       "\n",
       "  TCGA-05-4395-01  ... TCGA-NJ-A4YG-01 TCGA-NJ-A4YI-01 TCGA-NJ-A4YP-01  \\\n",
       "0         Lung_ad  ...         Lung_ad         Lung_ad         Lung_ad   \n",
       "1               0  ...               0               0               0   \n",
       "2           3.436  ...         11.7148          3.6657          2.3298   \n",
       "3         12.1335  ...         11.9573          9.7617           8.341   \n",
       "4         57.0596  ...         163.574         130.749          101.74   \n",
       "\n",
       "  TCGA-NJ-A4YQ-01 TCGA-NJ-A55A-01 TCGA-NJ-A55O-01 TCGA-NJ-A55R-01  \\\n",
       "0         Lung_ad         Lung_ad         Lung_ad         Lung_ad   \n",
       "1               0               0               0               0   \n",
       "2         16.3214         20.3514         15.5193          8.4195   \n",
       "3           7.533         17.2393         22.9872         10.3226   \n",
       "4         82.4231          100.42         100.187          74.721   \n",
       "\n",
       "  TCGA-NJ-A7XG-01 TCGA-O1-A52J-01 TCGA-S2-AA1A-01  \n",
       "0         Lung_ad         Lung_ad         Lung_ad  \n",
       "1               0               0               0  \n",
       "2         42.9857         14.0861         20.5338  \n",
       "3         81.1128         24.1914            8.95  \n",
       "4         85.3715         61.1388         76.9265  \n",
       "\n",
       "[5 rows x 512 columns]"
      ]
     },
     "execution_count": 3,
     "metadata": {},
     "output_type": "execute_result"
    }
   ],
   "source": [
    "df.head()"
   ]
  },
  {
   "cell_type": "code",
   "execution_count": 4,
   "metadata": {},
   "outputs": [
    {
     "data": {
      "text/plain": [
       "(20532, 512)"
      ]
     },
     "execution_count": 4,
     "metadata": {},
     "output_type": "execute_result"
    }
   ],
   "source": [
    "df.shape"
   ]
  },
  {
   "cell_type": "code",
   "execution_count": 5,
   "metadata": {},
   "outputs": [],
   "source": [
    "Lung_ad_train = df.iloc[:, 1:102]"
   ]
  },
  {
   "cell_type": "code",
   "execution_count": 6,
   "metadata": {},
   "outputs": [
    {
     "data": {
      "text/plain": [
       "(20532, 101)"
      ]
     },
     "execution_count": 6,
     "metadata": {},
     "output_type": "execute_result"
    }
   ],
   "source": [
    "Lung_ad_train.shape"
   ]
  },
  {
   "cell_type": "code",
   "execution_count": 7,
   "metadata": {},
   "outputs": [],
   "source": [
    "Lung_ad_train.to_csv('Lung_ad_train.csv', index = False)"
   ]
  },
  {
   "cell_type": "code",
   "execution_count": 8,
   "metadata": {},
   "outputs": [],
   "source": [
    "Lung_ad_test = pd.concat([df.iloc[:, 1:2], df.iloc[:, 103:123]], axis = 1)"
   ]
  },
  {
   "cell_type": "code",
   "execution_count": 9,
   "metadata": {},
   "outputs": [
    {
     "data": {
      "text/plain": [
       "(20532, 21)"
      ]
     },
     "execution_count": 9,
     "metadata": {},
     "output_type": "execute_result"
    }
   ],
   "source": [
    "Lung_ad_test.shape"
   ]
  },
  {
   "cell_type": "code",
   "execution_count": 10,
   "metadata": {},
   "outputs": [],
   "source": [
    "Lung_ad_test.to_csv('Lung_ad_test.csv', index = False)"
   ]
  },
  {
   "cell_type": "code",
   "execution_count": null,
   "metadata": {},
   "outputs": [],
   "source": []
  }
 ],
 "metadata": {
  "kernelspec": {
   "display_name": "Python 3",
   "language": "python",
   "name": "python3"
  },
  "language_info": {
   "codemirror_mode": {
    "name": "ipython",
    "version": 3
   },
   "file_extension": ".py",
   "mimetype": "text/x-python",
   "name": "python",
   "nbconvert_exporter": "python",
   "pygments_lexer": "ipython3",
   "version": "3.7.1"
  }
 },
 "nbformat": 4,
 "nbformat_minor": 4
}
