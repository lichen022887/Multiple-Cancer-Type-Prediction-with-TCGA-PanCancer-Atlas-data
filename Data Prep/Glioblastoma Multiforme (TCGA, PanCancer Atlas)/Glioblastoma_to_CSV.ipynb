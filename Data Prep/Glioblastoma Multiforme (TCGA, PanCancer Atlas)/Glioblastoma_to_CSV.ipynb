{
 "cells": [
  {
   "cell_type": "code",
   "execution_count": 1,
   "metadata": {},
   "outputs": [],
   "source": [
    "import pandas as pd\n",
    "import warnings\n",
    "warnings.filterwarnings('ignore')"
   ]
  },
  {
   "cell_type": "code",
   "execution_count": 2,
   "metadata": {},
   "outputs": [],
   "source": [
    "df = pd.read_csv('Glioblastoma.csv')"
   ]
  },
  {
   "cell_type": "code",
   "execution_count": 3,
   "metadata": {},
   "outputs": [
    {
     "data": {
      "text/html": [
       "<div>\n",
       "<style scoped>\n",
       "    .dataframe tbody tr th:only-of-type {\n",
       "        vertical-align: middle;\n",
       "    }\n",
       "\n",
       "    .dataframe tbody tr th {\n",
       "        vertical-align: top;\n",
       "    }\n",
       "\n",
       "    .dataframe thead th {\n",
       "        text-align: right;\n",
       "    }\n",
       "</style>\n",
       "<table border=\"1\" class=\"dataframe\">\n",
       "  <thead>\n",
       "    <tr style=\"text-align: right;\">\n",
       "      <th></th>\n",
       "      <th>Hugo_Symbol</th>\n",
       "      <th>Entrez_Gene_Id</th>\n",
       "      <th>TCGA-02-0047-01</th>\n",
       "      <th>TCGA-02-0055-01</th>\n",
       "      <th>TCGA-02-2483-01</th>\n",
       "      <th>TCGA-02-2485-01</th>\n",
       "      <th>TCGA-02-2486-01</th>\n",
       "      <th>TCGA-06-0125-01</th>\n",
       "      <th>TCGA-06-0125-02</th>\n",
       "      <th>TCGA-06-0129-01</th>\n",
       "      <th>...</th>\n",
       "      <th>TCGA-41-3915-01</th>\n",
       "      <th>TCGA-41-4097-01</th>\n",
       "      <th>TCGA-41-5651-01</th>\n",
       "      <th>TCGA-76-4925-01</th>\n",
       "      <th>TCGA-76-4926-01</th>\n",
       "      <th>TCGA-76-4927-01</th>\n",
       "      <th>TCGA-76-4928-01</th>\n",
       "      <th>TCGA-76-4929-01</th>\n",
       "      <th>TCGA-76-4931-01</th>\n",
       "      <th>TCGA-76-4932-01</th>\n",
       "    </tr>\n",
       "  </thead>\n",
       "  <tbody>\n",
       "    <tr>\n",
       "      <th>0</th>\n",
       "      <td>NaN</td>\n",
       "      <td>NaN</td>\n",
       "      <td>Glioblastoma</td>\n",
       "      <td>Glioblastoma</td>\n",
       "      <td>Glioblastoma</td>\n",
       "      <td>Glioblastoma</td>\n",
       "      <td>Glioblastoma</td>\n",
       "      <td>Glioblastoma</td>\n",
       "      <td>Glioblastoma</td>\n",
       "      <td>Glioblastoma</td>\n",
       "      <td>...</td>\n",
       "      <td>Glioblastoma</td>\n",
       "      <td>Glioblastoma</td>\n",
       "      <td>Glioblastoma</td>\n",
       "      <td>Glioblastoma</td>\n",
       "      <td>Glioblastoma</td>\n",
       "      <td>Glioblastoma</td>\n",
       "      <td>Glioblastoma</td>\n",
       "      <td>Glioblastoma</td>\n",
       "      <td>Glioblastoma</td>\n",
       "      <td>Glioblastoma</td>\n",
       "    </tr>\n",
       "    <tr>\n",
       "      <th>1</th>\n",
       "      <td>NaN</td>\n",
       "      <td>100130426.0</td>\n",
       "      <td>0</td>\n",
       "      <td>0</td>\n",
       "      <td>0</td>\n",
       "      <td>0</td>\n",
       "      <td>0</td>\n",
       "      <td>0.4604</td>\n",
       "      <td>0</td>\n",
       "      <td>0</td>\n",
       "      <td>...</td>\n",
       "      <td>0</td>\n",
       "      <td>0</td>\n",
       "      <td>0</td>\n",
       "      <td>0</td>\n",
       "      <td>0</td>\n",
       "      <td>0</td>\n",
       "      <td>0</td>\n",
       "      <td>0</td>\n",
       "      <td>0</td>\n",
       "      <td>0</td>\n",
       "    </tr>\n",
       "    <tr>\n",
       "      <th>2</th>\n",
       "      <td>NaN</td>\n",
       "      <td>100133144.0</td>\n",
       "      <td>3.0732</td>\n",
       "      <td>0</td>\n",
       "      <td>2.9467</td>\n",
       "      <td>15.9952</td>\n",
       "      <td>5.561</td>\n",
       "      <td>9.9246</td>\n",
       "      <td>3.3758</td>\n",
       "      <td>22.3207</td>\n",
       "      <td>...</td>\n",
       "      <td>8.2279</td>\n",
       "      <td>15.2648</td>\n",
       "      <td>1.219</td>\n",
       "      <td>12.216</td>\n",
       "      <td>9.5716</td>\n",
       "      <td>2.4096</td>\n",
       "      <td>10.1709</td>\n",
       "      <td>8.4757</td>\n",
       "      <td>6.16</td>\n",
       "      <td>0</td>\n",
       "    </tr>\n",
       "    <tr>\n",
       "      <th>3</th>\n",
       "      <td>NaN</td>\n",
       "      <td>100134869.0</td>\n",
       "      <td>6.7611</td>\n",
       "      <td>15.6973</td>\n",
       "      <td>13.9398</td>\n",
       "      <td>14.9571</td>\n",
       "      <td>4.8049</td>\n",
       "      <td>11.6684</td>\n",
       "      <td>3.3862</td>\n",
       "      <td>16.8239</td>\n",
       "      <td>...</td>\n",
       "      <td>10.2174</td>\n",
       "      <td>13.8987</td>\n",
       "      <td>10.3611</td>\n",
       "      <td>17.3596</td>\n",
       "      <td>13.9689</td>\n",
       "      <td>6.4257</td>\n",
       "      <td>6.4812</td>\n",
       "      <td>3.2496</td>\n",
       "      <td>7.9576</td>\n",
       "      <td>9.9502</td>\n",
       "    </tr>\n",
       "    <tr>\n",
       "      <th>4</th>\n",
       "      <td>NaN</td>\n",
       "      <td>10357.0</td>\n",
       "      <td>54.7036</td>\n",
       "      <td>31.3945</td>\n",
       "      <td>60.3441</td>\n",
       "      <td>91.8238</td>\n",
       "      <td>62.5366</td>\n",
       "      <td>52.1491</td>\n",
       "      <td>41.6125</td>\n",
       "      <td>76.2289</td>\n",
       "      <td>...</td>\n",
       "      <td>35.5731</td>\n",
       "      <td>27.6285</td>\n",
       "      <td>70.0838</td>\n",
       "      <td>108.135</td>\n",
       "      <td>70.5556</td>\n",
       "      <td>43.0201</td>\n",
       "      <td>42.4584</td>\n",
       "      <td>62.2278</td>\n",
       "      <td>58.8188</td>\n",
       "      <td>60.199</td>\n",
       "    </tr>\n",
       "  </tbody>\n",
       "</table>\n",
       "<p>5 rows × 162 columns</p>\n",
       "</div>"
      ],
      "text/plain": [
       "  Hugo_Symbol  Entrez_Gene_Id TCGA-02-0047-01 TCGA-02-0055-01 TCGA-02-2483-01  \\\n",
       "0         NaN             NaN    Glioblastoma    Glioblastoma    Glioblastoma   \n",
       "1         NaN     100130426.0               0               0               0   \n",
       "2         NaN     100133144.0          3.0732               0          2.9467   \n",
       "3         NaN     100134869.0          6.7611         15.6973         13.9398   \n",
       "4         NaN         10357.0         54.7036         31.3945         60.3441   \n",
       "\n",
       "  TCGA-02-2485-01 TCGA-02-2486-01 TCGA-06-0125-01 TCGA-06-0125-02  \\\n",
       "0    Glioblastoma    Glioblastoma    Glioblastoma    Glioblastoma   \n",
       "1               0               0          0.4604               0   \n",
       "2         15.9952           5.561          9.9246          3.3758   \n",
       "3         14.9571          4.8049         11.6684          3.3862   \n",
       "4         91.8238         62.5366         52.1491         41.6125   \n",
       "\n",
       "  TCGA-06-0129-01  ... TCGA-41-3915-01 TCGA-41-4097-01 TCGA-41-5651-01  \\\n",
       "0    Glioblastoma  ...    Glioblastoma    Glioblastoma    Glioblastoma   \n",
       "1               0  ...               0               0               0   \n",
       "2         22.3207  ...          8.2279         15.2648           1.219   \n",
       "3         16.8239  ...         10.2174         13.8987         10.3611   \n",
       "4         76.2289  ...         35.5731         27.6285         70.0838   \n",
       "\n",
       "  TCGA-76-4925-01 TCGA-76-4926-01 TCGA-76-4927-01 TCGA-76-4928-01  \\\n",
       "0    Glioblastoma    Glioblastoma    Glioblastoma    Glioblastoma   \n",
       "1               0               0               0               0   \n",
       "2          12.216          9.5716          2.4096         10.1709   \n",
       "3         17.3596         13.9689          6.4257          6.4812   \n",
       "4         108.135         70.5556         43.0201         42.4584   \n",
       "\n",
       "  TCGA-76-4929-01 TCGA-76-4931-01 TCGA-76-4932-01  \n",
       "0    Glioblastoma    Glioblastoma    Glioblastoma  \n",
       "1               0               0               0  \n",
       "2          8.4757            6.16               0  \n",
       "3          3.2496          7.9576          9.9502  \n",
       "4         62.2278         58.8188          60.199  \n",
       "\n",
       "[5 rows x 162 columns]"
      ]
     },
     "execution_count": 3,
     "metadata": {},
     "output_type": "execute_result"
    }
   ],
   "source": [
    "df.head()"
   ]
  },
  {
   "cell_type": "code",
   "execution_count": 4,
   "metadata": {},
   "outputs": [
    {
     "data": {
      "text/plain": [
       "(20532, 162)"
      ]
     },
     "execution_count": 4,
     "metadata": {},
     "output_type": "execute_result"
    }
   ],
   "source": [
    "df.shape"
   ]
  },
  {
   "cell_type": "code",
   "execution_count": 5,
   "metadata": {},
   "outputs": [],
   "source": [
    "Glioblastoma_train = df.iloc[:, 1:102]"
   ]
  },
  {
   "cell_type": "code",
   "execution_count": 6,
   "metadata": {},
   "outputs": [
    {
     "data": {
      "text/plain": [
       "(20532, 101)"
      ]
     },
     "execution_count": 6,
     "metadata": {},
     "output_type": "execute_result"
    }
   ],
   "source": [
    "Glioblastoma_train.shape"
   ]
  },
  {
   "cell_type": "code",
   "execution_count": 7,
   "metadata": {},
   "outputs": [],
   "source": [
    "Glioblastoma_train.to_csv('Glioblastoma_train.csv', index = False)"
   ]
  },
  {
   "cell_type": "code",
   "execution_count": 3,
   "metadata": {},
   "outputs": [],
   "source": [
    "Glioblastoma_test = pd.concat([df.iloc[:, 1:2], df.iloc[:, 103:123]], axis = 1)"
   ]
  },
  {
   "cell_type": "code",
   "execution_count": 4,
   "metadata": {},
   "outputs": [
    {
     "data": {
      "text/plain": [
       "(20532, 21)"
      ]
     },
     "execution_count": 4,
     "metadata": {},
     "output_type": "execute_result"
    }
   ],
   "source": [
    "Glioblastoma_test.shape"
   ]
  },
  {
   "cell_type": "code",
   "execution_count": 5,
   "metadata": {},
   "outputs": [],
   "source": [
    "Glioblastoma_test.to_csv('Glioblastoma_test.csv', index = False)"
   ]
  },
  {
   "cell_type": "code",
   "execution_count": null,
   "metadata": {},
   "outputs": [],
   "source": []
  }
 ],
 "metadata": {
  "kernelspec": {
   "display_name": "Python 3",
   "language": "python",
   "name": "python3"
  },
  "language_info": {
   "codemirror_mode": {
    "name": "ipython",
    "version": 3
   },
   "file_extension": ".py",
   "mimetype": "text/x-python",
   "name": "python",
   "nbconvert_exporter": "python",
   "pygments_lexer": "ipython3",
   "version": "3.7.1"
  }
 },
 "nbformat": 4,
 "nbformat_minor": 4
}
