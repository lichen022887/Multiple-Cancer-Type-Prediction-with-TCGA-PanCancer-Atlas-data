{
 "cells": [
  {
   "cell_type": "code",
   "execution_count": 1,
   "metadata": {},
   "outputs": [],
   "source": [
    "import pandas as pd\n",
    "import warnings\n",
    "warnings.filterwarnings('ignore')"
   ]
  },
  {
   "cell_type": "code",
   "execution_count": 2,
   "metadata": {},
   "outputs": [],
   "source": [
    "df = pd.read_csv('Esophageal_Cancer.csv')"
   ]
  },
  {
   "cell_type": "code",
   "execution_count": 5,
   "metadata": {},
   "outputs": [
    {
     "data": {
      "text/html": [
       "<div>\n",
       "<style scoped>\n",
       "    .dataframe tbody tr th:only-of-type {\n",
       "        vertical-align: middle;\n",
       "    }\n",
       "\n",
       "    .dataframe tbody tr th {\n",
       "        vertical-align: top;\n",
       "    }\n",
       "\n",
       "    .dataframe thead th {\n",
       "        text-align: right;\n",
       "    }\n",
       "</style>\n",
       "<table border=\"1\" class=\"dataframe\">\n",
       "  <thead>\n",
       "    <tr style=\"text-align: right;\">\n",
       "      <th></th>\n",
       "      <th>Hugo_Symbol</th>\n",
       "      <th>Entrez_Gene_Id</th>\n",
       "      <th>TCGA-2H-A9GF-01</th>\n",
       "      <th>TCGA-2H-A9GH-01</th>\n",
       "      <th>TCGA-2H-A9GI-01</th>\n",
       "      <th>TCGA-2H-A9GJ-01</th>\n",
       "      <th>TCGA-2H-A9GK-01</th>\n",
       "      <th>TCGA-2H-A9GL-01</th>\n",
       "      <th>TCGA-2H-A9GM-01</th>\n",
       "      <th>TCGA-2H-A9GN-01</th>\n",
       "      <th>...</th>\n",
       "      <th>TCGA-VR-AA7D-01</th>\n",
       "      <th>TCGA-VR-AA7I-01</th>\n",
       "      <th>TCGA-X8-AAAR-01</th>\n",
       "      <th>TCGA-XP-A8T6-01</th>\n",
       "      <th>TCGA-XP-A8T8-01</th>\n",
       "      <th>TCGA-Z6-A8JD-01</th>\n",
       "      <th>TCGA-Z6-A8JE-01</th>\n",
       "      <th>TCGA-Z6-A9VB-01</th>\n",
       "      <th>TCGA-Z6-AAPN-01</th>\n",
       "      <th>TCGA-ZR-A9CJ-01</th>\n",
       "    </tr>\n",
       "  </thead>\n",
       "  <tbody>\n",
       "    <tr>\n",
       "      <th>0</th>\n",
       "      <td>NaN</td>\n",
       "      <td>NaN</td>\n",
       "      <td>Esophageal_cancer</td>\n",
       "      <td>Esophageal_cancer</td>\n",
       "      <td>Esophageal_cancer</td>\n",
       "      <td>Esophageal_cancer</td>\n",
       "      <td>Esophageal_cancer</td>\n",
       "      <td>Esophageal_cancer</td>\n",
       "      <td>Esophageal_cancer</td>\n",
       "      <td>Esophageal_cancer</td>\n",
       "      <td>...</td>\n",
       "      <td>Esophageal_cancer</td>\n",
       "      <td>Esophageal_cancer</td>\n",
       "      <td>Esophageal_cancer</td>\n",
       "      <td>Esophageal_cancer</td>\n",
       "      <td>Esophageal_cancer</td>\n",
       "      <td>Esophageal_cancer</td>\n",
       "      <td>Esophageal_cancer</td>\n",
       "      <td>Esophageal_cancer</td>\n",
       "      <td>Esophageal_cancer</td>\n",
       "      <td>Esophageal_cancer</td>\n",
       "    </tr>\n",
       "    <tr>\n",
       "      <th>1</th>\n",
       "      <td>NaN</td>\n",
       "      <td>100130426.0</td>\n",
       "      <td>0</td>\n",
       "      <td>0</td>\n",
       "      <td>0</td>\n",
       "      <td>0</td>\n",
       "      <td>0</td>\n",
       "      <td>0</td>\n",
       "      <td>0</td>\n",
       "      <td>0</td>\n",
       "      <td>...</td>\n",
       "      <td>0</td>\n",
       "      <td>0</td>\n",
       "      <td>0</td>\n",
       "      <td>0</td>\n",
       "      <td>0</td>\n",
       "      <td>0</td>\n",
       "      <td>0</td>\n",
       "      <td>0</td>\n",
       "      <td>0</td>\n",
       "      <td>0</td>\n",
       "    </tr>\n",
       "    <tr>\n",
       "      <th>2</th>\n",
       "      <td>NaN</td>\n",
       "      <td>100133144.0</td>\n",
       "      <td>19.59629147</td>\n",
       "      <td>14.9106376</td>\n",
       "      <td>14.98445943</td>\n",
       "      <td>25.29910938</td>\n",
       "      <td>7.40764013</td>\n",
       "      <td>28.78336983</td>\n",
       "      <td>25.45594013</td>\n",
       "      <td>56.33761298</td>\n",
       "      <td>...</td>\n",
       "      <td>17.53554036</td>\n",
       "      <td>21.67793708</td>\n",
       "      <td>11.08458532</td>\n",
       "      <td>32.90487204</td>\n",
       "      <td>25.97846537</td>\n",
       "      <td>23.23575662</td>\n",
       "      <td>20.4013397</td>\n",
       "      <td>38.97647392</td>\n",
       "      <td>8.702367766</td>\n",
       "      <td>9.453675653</td>\n",
       "    </tr>\n",
       "    <tr>\n",
       "      <th>3</th>\n",
       "      <td>NaN</td>\n",
       "      <td>100134869.0</td>\n",
       "      <td>8.013002083</td>\n",
       "      <td>12.64808094</td>\n",
       "      <td>1.588220544</td>\n",
       "      <td>8.997623909</td>\n",
       "      <td>9.598623877</td>\n",
       "      <td>12.04748046</td>\n",
       "      <td>5.444413482</td>\n",
       "      <td>23.67284352</td>\n",
       "      <td>...</td>\n",
       "      <td>11.09030911</td>\n",
       "      <td>8.649271065</td>\n",
       "      <td>1.663951904</td>\n",
       "      <td>18.73558113</td>\n",
       "      <td>23.56184315</td>\n",
       "      <td>10.79982484</td>\n",
       "      <td>10.40912635</td>\n",
       "      <td>26.66825567</td>\n",
       "      <td>4.634938262</td>\n",
       "      <td>4.150759767</td>\n",
       "    </tr>\n",
       "    <tr>\n",
       "      <th>4</th>\n",
       "      <td>NaN</td>\n",
       "      <td>10357.0</td>\n",
       "      <td>702.5784495</td>\n",
       "      <td>955.5423687</td>\n",
       "      <td>590.6640439</td>\n",
       "      <td>183.7226451</td>\n",
       "      <td>156.743268</td>\n",
       "      <td>559.6068815</td>\n",
       "      <td>262.8298816</td>\n",
       "      <td>321.0192097</td>\n",
       "      <td>...</td>\n",
       "      <td>241.9928612</td>\n",
       "      <td>227.7437236</td>\n",
       "      <td>297.2278492</td>\n",
       "      <td>284.3422532</td>\n",
       "      <td>253.5649892</td>\n",
       "      <td>334.7765992</td>\n",
       "      <td>271.5439649</td>\n",
       "      <td>432.6614205</td>\n",
       "      <td>193.4946929</td>\n",
       "      <td>256.0288651</td>\n",
       "    </tr>\n",
       "  </tbody>\n",
       "</table>\n",
       "<p>5 rows × 183 columns</p>\n",
       "</div>"
      ],
      "text/plain": [
       "  Hugo_Symbol  Entrez_Gene_Id    TCGA-2H-A9GF-01    TCGA-2H-A9GH-01  \\\n",
       "0         NaN             NaN  Esophageal_cancer  Esophageal_cancer   \n",
       "1         NaN     100130426.0                  0                  0   \n",
       "2         NaN     100133144.0        19.59629147         14.9106376   \n",
       "3         NaN     100134869.0        8.013002083        12.64808094   \n",
       "4         NaN         10357.0        702.5784495        955.5423687   \n",
       "\n",
       "     TCGA-2H-A9GI-01    TCGA-2H-A9GJ-01    TCGA-2H-A9GK-01    TCGA-2H-A9GL-01  \\\n",
       "0  Esophageal_cancer  Esophageal_cancer  Esophageal_cancer  Esophageal_cancer   \n",
       "1                  0                  0                  0                  0   \n",
       "2        14.98445943        25.29910938         7.40764013        28.78336983   \n",
       "3        1.588220544        8.997623909        9.598623877        12.04748046   \n",
       "4        590.6640439        183.7226451         156.743268        559.6068815   \n",
       "\n",
       "     TCGA-2H-A9GM-01    TCGA-2H-A9GN-01  ...    TCGA-VR-AA7D-01  \\\n",
       "0  Esophageal_cancer  Esophageal_cancer  ...  Esophageal_cancer   \n",
       "1                  0                  0  ...                  0   \n",
       "2        25.45594013        56.33761298  ...        17.53554036   \n",
       "3        5.444413482        23.67284352  ...        11.09030911   \n",
       "4        262.8298816        321.0192097  ...        241.9928612   \n",
       "\n",
       "     TCGA-VR-AA7I-01    TCGA-X8-AAAR-01    TCGA-XP-A8T6-01    TCGA-XP-A8T8-01  \\\n",
       "0  Esophageal_cancer  Esophageal_cancer  Esophageal_cancer  Esophageal_cancer   \n",
       "1                  0                  0                  0                  0   \n",
       "2        21.67793708        11.08458532        32.90487204        25.97846537   \n",
       "3        8.649271065        1.663951904        18.73558113        23.56184315   \n",
       "4        227.7437236        297.2278492        284.3422532        253.5649892   \n",
       "\n",
       "     TCGA-Z6-A8JD-01    TCGA-Z6-A8JE-01    TCGA-Z6-A9VB-01    TCGA-Z6-AAPN-01  \\\n",
       "0  Esophageal_cancer  Esophageal_cancer  Esophageal_cancer  Esophageal_cancer   \n",
       "1                  0                  0                  0                  0   \n",
       "2        23.23575662         20.4013397        38.97647392        8.702367766   \n",
       "3        10.79982484        10.40912635        26.66825567        4.634938262   \n",
       "4        334.7765992        271.5439649        432.6614205        193.4946929   \n",
       "\n",
       "     TCGA-ZR-A9CJ-01  \n",
       "0  Esophageal_cancer  \n",
       "1                  0  \n",
       "2        9.453675653  \n",
       "3        4.150759767  \n",
       "4        256.0288651  \n",
       "\n",
       "[5 rows x 183 columns]"
      ]
     },
     "execution_count": 5,
     "metadata": {},
     "output_type": "execute_result"
    }
   ],
   "source": [
    "df.head()"
   ]
  },
  {
   "cell_type": "code",
   "execution_count": 7,
   "metadata": {},
   "outputs": [
    {
     "data": {
      "text/plain": [
       "(20532, 183)"
      ]
     },
     "execution_count": 7,
     "metadata": {},
     "output_type": "execute_result"
    }
   ],
   "source": [
    "df.shape"
   ]
  },
  {
   "cell_type": "code",
   "execution_count": 8,
   "metadata": {},
   "outputs": [],
   "source": [
    "Esophageal_cancer_train = df.iloc[:, :-18]"
   ]
  },
  {
   "cell_type": "code",
   "execution_count": 10,
   "metadata": {},
   "outputs": [
    {
     "data": {
      "text/plain": [
       "(20532, 165)"
      ]
     },
     "execution_count": 10,
     "metadata": {},
     "output_type": "execute_result"
    }
   ],
   "source": [
    "Esophageal_cancer_train.shape"
   ]
  },
  {
   "cell_type": "code",
   "execution_count": 11,
   "metadata": {},
   "outputs": [],
   "source": [
    "Esophageal_cancer_train.to_csv('Esophageal_cancer_train.csv', index = False)"
   ]
  },
  {
   "cell_type": "code",
   "execution_count": 16,
   "metadata": {},
   "outputs": [],
   "source": [
    "Esophageal_cancer_test = pd.concat([df.iloc[:, :2], df.iloc[:, -18:]], axis = 1)"
   ]
  },
  {
   "cell_type": "code",
   "execution_count": 17,
   "metadata": {},
   "outputs": [
    {
     "data": {
      "text/plain": [
       "(20532, 20)"
      ]
     },
     "execution_count": 17,
     "metadata": {},
     "output_type": "execute_result"
    }
   ],
   "source": [
    "Esophageal_cancer_test.shape"
   ]
  },
  {
   "cell_type": "code",
   "execution_count": 18,
   "metadata": {},
   "outputs": [],
   "source": [
    "Esophageal_cancer_test.to_csv('Esophageal_cancer_test.csv', index = False)"
   ]
  },
  {
   "cell_type": "code",
   "execution_count": null,
   "metadata": {},
   "outputs": [],
   "source": []
  }
 ],
 "metadata": {
  "kernelspec": {
   "display_name": "Python 3",
   "language": "python",
   "name": "python3"
  },
  "language_info": {
   "codemirror_mode": {
    "name": "ipython",
    "version": 3
   },
   "file_extension": ".py",
   "mimetype": "text/x-python",
   "name": "python",
   "nbconvert_exporter": "python",
   "pygments_lexer": "ipython3",
   "version": "3.7.1"
  }
 },
 "nbformat": 4,
 "nbformat_minor": 4
}
